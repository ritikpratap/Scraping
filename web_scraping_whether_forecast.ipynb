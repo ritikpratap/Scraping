{
 "cells": [
  {
   "cell_type": "code",
   "execution_count": 11,
   "metadata": {},
   "outputs": [
    {
     "data": {
      "text/plain": [
       "'<div class=\"tombstone-container\">\\n <p class=\"period-name\">\\n  Tonight\\n  <br/>\\n  <br/>\\n </p>\\n <p>\\n  <img alt=\"Tonight: Mostly clear, with a low around 54. West southwest wind 5 to 9 mph becoming light southwest  after midnight. \" class=\"forecast-icon\" src=\"newimages/medium/nfew.png\" title=\"Tonight: Mostly clear, with a low around 54. West southwest wind 5 to 9 mph becoming light southwest  after midnight. \"/>\\n </p>\\n <p class=\"short-desc\">\\n  Mostly Clear\\n </p>\\n <p class=\"temp temp-low\">\\n  Low: 54 °F\\n </p>\\n</div>'"
      ]
     },
     "execution_count": 11,
     "metadata": {},
     "output_type": "execute_result"
    }
   ],
   "source": [
    "import requests\n",
    "from bs4 import BeautifulSoup\n",
    "page = requests.get('https://forecast.weather.gov/MapClick.php?lat=37.7772&lon=-122.4168#.XjRn42gzbDc')\n",
    "soup = BeautifulSoup(page.content, 'html.parser')\n",
    "day7 = soup.find(id='seven-day-forecast')\n",
    "items = day7.find_all(class_='tombstone-container')\n",
    "today = items[0]\n",
    "today.prettify()"
   ]
  },
  {
   "cell_type": "code",
   "execution_count": 12,
   "metadata": {},
   "outputs": [
    {
     "data": {
      "text/plain": [
       "'Low: 54 °F'"
      ]
     },
     "execution_count": 12,
     "metadata": {},
     "output_type": "execute_result"
    }
   ],
   "source": [
    "period = today.find(class_='period-name').get_text()\n",
    "desc = today.find(class_='short-desc').get_text()\n",
    "temp = today.find(class_='temp').get_text()\n",
    "temp"
   ]
  },
  {
   "cell_type": "code",
   "execution_count": 13,
   "metadata": {},
   "outputs": [
    {
     "data": {
      "text/plain": [
       "'Mostly Clear'"
      ]
     },
     "execution_count": 13,
     "metadata": {},
     "output_type": "execute_result"
    }
   ],
   "source": [
    "desc"
   ]
  },
  {
   "cell_type": "code",
   "execution_count": 14,
   "metadata": {},
   "outputs": [
    {
     "data": {
      "text/plain": [
       "'Tonight: Mostly clear, with a low around 54. West southwest wind 5 to 9 mph becoming light southwest  after midnight. '"
      ]
     },
     "execution_count": 14,
     "metadata": {},
     "output_type": "execute_result"
    }
   ],
   "source": [
    "img = today.find('img')\n",
    "img_title = img['title']\n",
    "img_title"
   ]
  },
  {
   "cell_type": "code",
   "execution_count": 15,
   "metadata": {},
   "outputs": [
    {
     "data": {
      "text/plain": [
       "['Tonight',\n",
       " 'Sunday',\n",
       " 'SundayNight',\n",
       " 'MemorialDay',\n",
       " 'MondayNight',\n",
       " 'Tuesday',\n",
       " 'TuesdayNight',\n",
       " 'Wednesday',\n",
       " 'WednesdayNight']"
      ]
     },
     "execution_count": 15,
     "metadata": {},
     "output_type": "execute_result"
    }
   ],
   "source": [
    "period_tags = day7.select(\".tombstone-container .period-name\")\n",
    "\n",
    "# DAYS = [pt.get_text() for pt in period_tags]\n",
    "\n",
    "# Standard way to do this is...\n",
    "\n",
    "DAYS = []\n",
    "for pt in period_tags:\n",
    "     DAYS.append(pt.get_text())\n",
    "DAYS"
   ]
  },
  {
   "cell_type": "code",
   "execution_count": 16,
   "metadata": {},
   "outputs": [
    {
     "data": {
      "text/plain": [
       "['Mostly Clear',\n",
       " 'Sunny',\n",
       " 'Clear',\n",
       " 'Sunny',\n",
       " 'Mostly Clear',\n",
       " 'Sunny',\n",
       " 'Mostly Clear',\n",
       " 'Sunny',\n",
       " 'Mostly Clear']"
      ]
     },
     "execution_count": 16,
     "metadata": {},
     "output_type": "execute_result"
    }
   ],
   "source": [
    "desc_tags = day7.select('.tombstone-container .short-desc')\n",
    "dsc = []\n",
    "for sd in desc_tags:\n",
    "    dsc.append(sd.get_text())\n",
    "dsc"
   ]
  },
  {
   "cell_type": "code",
   "execution_count": 17,
   "metadata": {},
   "outputs": [
    {
     "data": {
      "text/plain": [
       "['Low: 54 °F',\n",
       " 'High: 75 °F',\n",
       " 'Low: 56 °F',\n",
       " 'High: 81 °F',\n",
       " 'Low: 59 °F',\n",
       " 'High: 84 °F',\n",
       " 'Low: 59 °F',\n",
       " 'High: 82 °F',\n",
       " 'Low: 59 °F']"
      ]
     },
     "execution_count": 17,
     "metadata": {},
     "output_type": "execute_result"
    }
   ],
   "source": [
    "temp_tags = day7.select('.tombstone-container .temp')\n",
    "tempt = []\n",
    "for t in temp_tags:\n",
    "    tempt.append(t.get_text())\n",
    "tempt"
   ]
  },
  {
   "cell_type": "code",
   "execution_count": 18,
   "metadata": {},
   "outputs": [
    {
     "data": {
      "text/html": [
       "<div>\n",
       "<style scoped>\n",
       "    .dataframe tbody tr th:only-of-type {\n",
       "        vertical-align: middle;\n",
       "    }\n",
       "\n",
       "    .dataframe tbody tr th {\n",
       "        vertical-align: top;\n",
       "    }\n",
       "\n",
       "    .dataframe thead th {\n",
       "        text-align: right;\n",
       "    }\n",
       "</style>\n",
       "<table border=\"1\" class=\"dataframe\">\n",
       "  <thead>\n",
       "    <tr style=\"text-align: right;\">\n",
       "      <th></th>\n",
       "      <th>period</th>\n",
       "      <th>short_desc</th>\n",
       "      <th>temperature</th>\n",
       "    </tr>\n",
       "  </thead>\n",
       "  <tbody>\n",
       "    <tr>\n",
       "      <th>0</th>\n",
       "      <td>Tonight</td>\n",
       "      <td>Mostly Clear</td>\n",
       "      <td>Low: 54 °F</td>\n",
       "    </tr>\n",
       "    <tr>\n",
       "      <th>1</th>\n",
       "      <td>Sunday</td>\n",
       "      <td>Sunny</td>\n",
       "      <td>High: 75 °F</td>\n",
       "    </tr>\n",
       "    <tr>\n",
       "      <th>2</th>\n",
       "      <td>SundayNight</td>\n",
       "      <td>Clear</td>\n",
       "      <td>Low: 56 °F</td>\n",
       "    </tr>\n",
       "    <tr>\n",
       "      <th>3</th>\n",
       "      <td>MemorialDay</td>\n",
       "      <td>Sunny</td>\n",
       "      <td>High: 81 °F</td>\n",
       "    </tr>\n",
       "    <tr>\n",
       "      <th>4</th>\n",
       "      <td>MondayNight</td>\n",
       "      <td>Mostly Clear</td>\n",
       "      <td>Low: 59 °F</td>\n",
       "    </tr>\n",
       "    <tr>\n",
       "      <th>5</th>\n",
       "      <td>Tuesday</td>\n",
       "      <td>Sunny</td>\n",
       "      <td>High: 84 °F</td>\n",
       "    </tr>\n",
       "    <tr>\n",
       "      <th>6</th>\n",
       "      <td>TuesdayNight</td>\n",
       "      <td>Mostly Clear</td>\n",
       "      <td>Low: 59 °F</td>\n",
       "    </tr>\n",
       "    <tr>\n",
       "      <th>7</th>\n",
       "      <td>Wednesday</td>\n",
       "      <td>Sunny</td>\n",
       "      <td>High: 82 °F</td>\n",
       "    </tr>\n",
       "    <tr>\n",
       "      <th>8</th>\n",
       "      <td>WednesdayNight</td>\n",
       "      <td>Mostly Clear</td>\n",
       "      <td>Low: 59 °F</td>\n",
       "    </tr>\n",
       "  </tbody>\n",
       "</table>\n",
       "</div>"
      ],
      "text/plain": [
       "           period    short_desc  temperature\n",
       "0         Tonight  Mostly Clear   Low: 54 °F\n",
       "1          Sunday         Sunny  High: 75 °F\n",
       "2     SundayNight         Clear   Low: 56 °F\n",
       "3     MemorialDay         Sunny  High: 81 °F\n",
       "4     MondayNight  Mostly Clear   Low: 59 °F\n",
       "5         Tuesday         Sunny  High: 84 °F\n",
       "6    TuesdayNight  Mostly Clear   Low: 59 °F\n",
       "7       Wednesday         Sunny  High: 82 °F\n",
       "8  WednesdayNight  Mostly Clear   Low: 59 °F"
      ]
     },
     "execution_count": 18,
     "metadata": {},
     "output_type": "execute_result"
    }
   ],
   "source": [
    "import pandas as pd\n",
    "\n",
    "df = pd.DataFrame({'period':DAYS, 'short_desc':dsc, 'temperature':tempt})\n",
    "df\n",
    "\n",
    "# if you get a value error...i.e array must be all same length, then just do...\n",
    "\n",
    "# my_dict = {'period':DAYS, 'short_desc':dsc, 'temperature':tempt}\n",
    "# whether = pd.DataFrame.from_dict(my_dict, orient='index')\n",
    "# whether.transpose()"
   ]
  },
  {
   "cell_type": "code",
   "execution_count": null,
   "metadata": {},
   "outputs": [],
   "source": []
  }
 ],
 "metadata": {
  "kernelspec": {
   "display_name": "Python 3",
   "language": "python",
   "name": "python3"
  },
  "language_info": {
   "codemirror_mode": {
    "name": "ipython",
    "version": 3
   },
   "file_extension": ".py",
   "mimetype": "text/x-python",
   "name": "python",
   "nbconvert_exporter": "python",
   "pygments_lexer": "ipython3",
   "version": "3.6.5"
  }
 },
 "nbformat": 4,
 "nbformat_minor": 2
}
